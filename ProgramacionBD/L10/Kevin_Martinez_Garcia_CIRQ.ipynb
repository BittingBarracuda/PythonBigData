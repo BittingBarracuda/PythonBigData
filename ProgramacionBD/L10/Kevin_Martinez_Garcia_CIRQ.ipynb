{
 "cells": [
  {
   "cell_type": "markdown",
   "id": "4e937e6a",
   "metadata": {},
   "source": [
    "Vamos a usar la herramienta Cirq de Google para crear y ejecutar algunos circuitos cuánticos."
   ]
  },
  {
   "cell_type": "code",
   "execution_count": 28,
   "id": "609359e0",
   "metadata": {},
   "outputs": [],
   "source": [
    "import cirq\n",
    "import cirq_google"
   ]
  },
  {
   "cell_type": "markdown",
   "id": "735523bd",
   "metadata": {},
   "source": [
    "Empezamos definiendo qubits de diferentes maneras"
   ]
  },
  {
   "cell_type": "code",
   "execution_count": 29,
   "id": "cce59caa",
   "metadata": {},
   "outputs": [],
   "source": [
    "# Primera forma - Creamos qubits etiquetados con NamedQubit\n",
    "q0 = cirq.NamedQubit('source')\n",
    "q1 = cirq.NamedQubit('target')\n",
    "\n",
    "# Segunda forma - creamos qubits etiquetados por su posición en un array\n",
    "# o individualmente\n",
    "q3 = cirq.LineQubit(3)\n",
    "q0, q1, q2 = cirq.LineQubit.range(3)\n",
    "\n",
    "# Tercera forma - Creamos los qubits en un mallado rectangular. Cada uno\n",
    "# se identifica por dos números enteros que son sus coordenadas en el mallado.\n",
    "q4_5 = cirq.GridQubit(4, 5)\n",
    "\n",
    "# Aquí creamos un mallado 4x4 con coordenadas desde (0, 0) hasta (3, 3)\n",
    "qubits = cirq.GridQubit.square(4)"
   ]
  },
  {
   "cell_type": "markdown",
   "id": "13451a61",
   "metadata": {},
   "source": [
    "Existen conjuntos de qubits previamente creados por parte de Google denominados \"Dispositivos\". Para acceder a ellos usamos cirq.Device. A continuación mostramos cirq_google.Sycamore que cuenta con 54 qubits en dispuestos en forma de \"diamante\"."
   ]
  },
  {
   "cell_type": "code",
   "execution_count": 30,
   "id": "6714fdb6",
   "metadata": {},
   "outputs": [
    {
     "name": "stdout",
     "output_type": "stream",
     "text": [
      "                                             (0, 5)───(0, 6)\n",
      "                                             │        │\n",
      "                                             │        │\n",
      "                                    (1, 4)───(1, 5)───(1, 6)───(1, 7)\n",
      "                                    │        │        │        │\n",
      "                                    │        │        │        │\n",
      "                           (2, 3)───(2, 4)───(2, 5)───(2, 6)───(2, 7)───(2, 8)\n",
      "                           │        │        │        │        │        │\n",
      "                           │        │        │        │        │        │\n",
      "                  (3, 2)───(3, 3)───(3, 4)───(3, 5)───(3, 6)───(3, 7)───(3, 8)───(3, 9)\n",
      "                  │        │        │        │        │        │        │        │\n",
      "                  │        │        │        │        │        │        │        │\n",
      "         (4, 1)───(4, 2)───(4, 3)───(4, 4)───(4, 5)───(4, 6)───(4, 7)───(4, 8)───(4, 9)\n",
      "         │        │        │        │        │        │        │        │\n",
      "         │        │        │        │        │        │        │        │\n",
      "(5, 0)───(5, 1)───(5, 2)───(5, 3)───(5, 4)───(5, 5)───(5, 6)───(5, 7)───(5, 8)\n",
      "         │        │        │        │        │        │        │\n",
      "         │        │        │        │        │        │        │\n",
      "         (6, 1)───(6, 2)───(6, 3)───(6, 4)───(6, 5)───(6, 6)───(6, 7)\n",
      "                  │        │        │        │        │\n",
      "                  │        │        │        │        │\n",
      "                  (7, 2)───(7, 3)───(7, 4)───(7, 5)───(7, 6)\n",
      "                           │        │        │\n",
      "                           │        │        │\n",
      "                           (8, 3)───(8, 4)───(8, 5)\n",
      "                                    │\n",
      "                                    │\n",
      "                                    (9, 4)\n"
     ]
    }
   ],
   "source": [
    "print(cirq_google.Sycamore)"
   ]
  },
  {
   "cell_type": "markdown",
   "id": "f8b3aa04",
   "metadata": {},
   "source": [
    "Otro aspecto importante de los circuitos cuánticos son los portones cuánticos y las operaciones que se pueden llevar a cabo sobre los qubits. Proponemos a continuación algunos ejemplos."
   ]
  },
  {
   "cell_type": "code",
   "execution_count": 31,
   "id": "c24bbb7d",
   "metadata": {},
   "outputs": [],
   "source": [
    "# Portones CNOT y Pauli-Z\n",
    "cnot_gate = cirq.CNOT\n",
    "pauli_z = cirq.Z\n",
    "\n",
    "# Portones que obtienen la raíz cuadrada\n",
    "sqrt_x_gate = cirq.X ** 0.5\n",
    "\n",
    "# Portones que admiten parámetros\n",
    "sqrt_sqrt_y_gate = cirq.YPowGate(exponent = 0.25)\n",
    "\n",
    "# Creamos dos qubits en una línea\n",
    "q0, q1 = cirq.LineQubit.range(2)\n",
    "\n",
    "# Aplicamos algunas operaciones\n",
    "# Pauli-Z\n",
    "z_op = cirq.Z(q0)\n",
    "# CNOT q0 y q1\n",
    "not_op = cirq.CNOT(q0, q1)\n",
    "# SWAP sqrt\n",
    "sqrt_iswap_op = cirq.SQRT_ISWAP(q0, q1)\n",
    "\n",
    "# Se pueden reutilizar los portones que hemos guardado como variables\n",
    "# previamente.\n",
    "cnot_op = cnot_gate(q0, q1)\n",
    "pauli_z_op = pauli_z(q0)\n",
    "sqrt_x_op = sqrt_x_gate(q0)\n",
    "sqrt_sqrt_y_op = sqrt_sqrt_y_gate(q0)"
   ]
  },
  {
   "cell_type": "markdown",
   "id": "69a0c26e",
   "metadata": {},
   "source": [
    "Los circuitos en cirq utilizan los Moment para controlar en que punto del circuito se realiza cada operación o se coloca cada portón. Vamos a ver algunos ejemplos."
   ]
  },
  {
   "cell_type": "code",
   "execution_count": 32,
   "id": "1901da9d",
   "metadata": {},
   "outputs": [
    {
     "name": "stdout",
     "output_type": "stream",
     "text": [
      "(0, 0): ───H───\n",
      "\n",
      "(0, 1): ───H───\n",
      "\n",
      "(0, 2): ───H───\n"
     ]
    }
   ],
   "source": [
    "circuit = cirq.Circuit()\n",
    "qiubits = cirq.LineQubit.range(3)\n",
    "circuit.append(cirq.H(qubits[0]))\n",
    "circuit.append(cirq.H(qubits[1]))\n",
    "circuit.append(cirq.H(qubits[2]))\n",
    "print(circuit)"
   ]
  },
  {
   "cell_type": "markdown",
   "id": "22675a92",
   "metadata": {},
   "source": [
    "Esto también se puede hacer con listas de compresión"
   ]
  },
  {
   "cell_type": "code",
   "execution_count": 33,
   "id": "03de3102",
   "metadata": {},
   "outputs": [
    {
     "name": "stdout",
     "output_type": "stream",
     "text": [
      "0: ───H───\n",
      "\n",
      "1: ───H───\n",
      "\n",
      "2: ───H───\n"
     ]
    }
   ],
   "source": [
    "circuit = cirq.Circuit()\n",
    "ops = [cirq.H(q) for q in cirq.LineQubit.range(3)]\n",
    "circuit.append(ops)\n",
    "print(circuit)"
   ]
  },
  {
   "cell_type": "markdown",
   "id": "e256ecc5",
   "metadata": {},
   "source": [
    "Si nos fijamos los portones Hadamard se colocan lo más a la izquierda posible, es decir, en el mismo Moment. Las operaciones que se apliquen a los mismos qubits se pondrán en orden secuencial, es decir, se colocan en Moments consecutivos. Veamos un ejemplo."
   ]
  },
  {
   "cell_type": "code",
   "execution_count": 34,
   "id": "cc2f2193",
   "metadata": {},
   "outputs": [
    {
     "name": "stdout",
     "output_type": "stream",
     "text": [
      "0: ───×───────────\n",
      "      │\n",
      "1: ───×───×───────\n",
      "          │\n",
      "2: ───────×───×───\n",
      "              │\n",
      "3: ───────────×───\n"
     ]
    }
   ],
   "source": [
    "print(cirq.Circuit(cirq.SWAP(q, q + 1) for q in cirq.LineQubit.range(3)))"
   ]
  },
  {
   "cell_type": "markdown",
   "id": "a7c95000",
   "metadata": {},
   "source": [
    "Si queremos evitar que las operaciones se coloquen lo más a la izquierda posible podemos crear el circuito pasándole un iterable de Moments como en el siguiente ejemplo."
   ]
  },
  {
   "cell_type": "code",
   "execution_count": 35,
   "id": "ff47da92",
   "metadata": {},
   "outputs": [
    {
     "name": "stdout",
     "output_type": "stream",
     "text": [
      "0: ───H───────────\n",
      "\n",
      "1: ───────H───────\n",
      "\n",
      "2: ───────────H───\n"
     ]
    }
   ],
   "source": [
    "print(cirq.Circuit(cirq.Moment([cirq.H(q)]) for q in cirq.LineQubit.range(3)))"
   ]
  },
  {
   "cell_type": "markdown",
   "id": "ff398e67",
   "metadata": {},
   "source": [
    "Cuando usamos circuitos cuánticos reales es posible que existan ciertas restricciones a nivel de Hardware. Se utilizan objetos de tipo Device que especifican estas restricciones y evitan la existencia de operaciones iliegales en el circuito. Veamos un ejemplo que lanza una excepción con el Sycamore Device que hemos visto previamente. "
   ]
  },
  {
   "cell_type": "code",
   "execution_count": 36,
   "id": "bfa838e8",
   "metadata": {},
   "outputs": [
    {
     "name": "stdout",
     "output_type": "stream",
     "text": [
      "Operation does not use valid qubit target: SYC((5, 6), (4, 5)).\n"
     ]
    }
   ],
   "source": [
    "# Creamos unos qubits en un mallado\n",
    "q0 = cirq.GridQubit(5, 6)\n",
    "q1 = cirq.GridQubit(5, 5)\n",
    "q2 = cirq.GridQubit(4, 5)\n",
    "\n",
    "# Creamos dos operaciones con el portón Sycamore. Estas operaciones\n",
    "# actuan sobre qubits adyacentes (q0, q1) y no adyacentes (q1, q2)\n",
    "adjacent_op = cirq_google.SYC(q0, q1)\n",
    "nonadjacent_op = cirq_google.SYC(q0, q2)\n",
    "\n",
    "# Si aplicamos el operador adyacente se genera un circuito válido que no da problemas\n",
    "working_circuit = cirq.Circuit()\n",
    "working_circuit.append(adjacent_op)\n",
    "valid = cirq_google.Sycamore.validate_circuit(working_circuit)\n",
    "\n",
    "# Si aplicamos el no adyacente generamos un circuito no válido y se \n",
    "# genera una excepción.\n",
    "bad_circuit = cirq.Circuit()\n",
    "bad_circuit.append(nonadjacent_op)\n",
    "try:\n",
    "    cirq_google.Sycamore.validate_circuit(bad_circuit)\n",
    "except ValueError as e:\n",
    "    print(e)"
   ]
  },
  {
   "cell_type": "markdown",
   "id": "75b8ea2c",
   "metadata": {},
   "source": [
    "Vamos a pasar ahora a simular un circuito usando Simulator(). "
   ]
  },
  {
   "cell_type": "code",
   "execution_count": 37,
   "id": "344cab6c",
   "metadata": {},
   "outputs": [
    {
     "name": "stdout",
     "output_type": "stream",
     "text": [
      "Simulate the circuit:\n",
      "measurements: (no measurements)\n",
      "\n",
      "qubits: (cirq.LineQubit(0), cirq.LineQubit(1))\n",
      "output vector: 0.707|00⟩ + 0.707|11⟩\n",
      "\n",
      "phase:\n",
      "output vector: |⟩\n"
     ]
    }
   ],
   "source": [
    "# Creamos un estado de bell \n",
    "# 1/sqrt(2) * ( |00⟩ + |11⟩ )\n",
    "bell_circuit = cirq.Circuit()\n",
    "q0, q1 = cirq.LineQubit.range(2)\n",
    "bell_circuit.append(cirq.H(q0))\n",
    "bell_circuit.append(cirq.CNOT(q0, q1))\n",
    "\n",
    "#Inicializamos el simulador\n",
    "s = cirq.Simulator()\n",
    "\n",
    "print('Simulate the circuit:')\n",
    "results = s.simulate(bell_circuit)\n",
    "print(results)\n",
    "\n",
    "# Para muestrear medimos los resultados al final\n",
    "bell_circuit.append(cirq.measure(q0, q1, key='result'))\n",
    "\n",
    "# Ejecutamos varias veces para obtener un muestreo significativo\n",
    "samples = s.run(bell_circuit, repetitions=1000)"
   ]
  },
  {
   "cell_type": "code",
   "execution_count": 38,
   "id": "794fb799",
   "metadata": {},
   "outputs": [
    {
     "data": {
      "image/png": "[encoded data removed]",
      "text/plain": [
       "<Figure size 432x288 with 1 Axes>"
      ]
     },
     "metadata": {
      "needs_background": "light"
     },
     "output_type": "display_data"
    }
   ],
   "source": [
    "import matplotlib.pyplot as plt\n",
    "cirq.plot_state_histogram(samples, plt.subplot())\n",
    "plt.show()"
   ]
  },
  {
   "cell_type": "markdown",
   "id": "31e66ce4",
   "metadata": {},
   "source": [
    "Este histograma sería equivalente a leer $|00\\rangle$ y $|11\\rangle$ aproximadamente el 50% de las veces cada uno y leer 0 veces los estados $|10\\rangle$ y $|01\\rangle$. Si queremos eliminar las entradas con 0 elementos hacemos lo siguiente."
   ]
  },
  {
   "cell_type": "code",
   "execution_count": 39,
   "id": "bc413797",
   "metadata": {},
   "outputs": [
    {
     "name": "stdout",
     "output_type": "stream",
     "text": [
      "Counter({3: 508, 0: 492})\n"
     ]
    },
    {
     "data": {
      "image/png": "[encoded data removed]",
      "text/plain": [
       "<Figure size 432x288 with 1 Axes>"
      ]
     },
     "metadata": {
      "needs_background": "light"
     },
     "output_type": "display_data"
    }
   ],
   "source": [
    "# Obtenemos los conteos a partir del histograma\n",
    "counts = samples.histogram(key='result')\n",
    "print(counts)\n",
    "\n",
    "# Graficamos los conteos en lugar de los resultados del circuito\n",
    "cirq.plot_state_histogram(counts, plt.subplot())\n",
    "plt.show()"
   ]
  },
  {
   "cell_type": "markdown",
   "id": "fa9a6c24",
   "metadata": {},
   "source": [
    "Hasta aquí tendríamos cubierto con cirq aproximadamente el mismo contenido que hemos visto con qiskit. Para completar el notebook, vamos a tratar de replicar el ejercicio que vimos con qiskit pero usando Cirq. Comenzamos definiendo los qubits y el circuito a usar."
   ]
  },
  {
   "cell_type": "code",
   "execution_count": 40,
   "id": "64938be9",
   "metadata": {},
   "outputs": [
    {
     "name": "stdout",
     "output_type": "stream",
     "text": [
      "0: ───H───@───\n",
      "          │\n",
      "1: ───────X───\n"
     ]
    }
   ],
   "source": [
    "# Creamos el circuito\n",
    "circuit = cirq.Circuit()\n",
    "# Creamos dos qubits\n",
    "qb = cirq.LineQubit.range(2)\n",
    "# Agregamos los qubits al circuito\n",
    "# Aplicamos una puerta Hadamard sobre q0\n",
    "circuit.append(cirq.H(qb[0]))\n",
    "# Aplicamos una puerta CNOT (C-X) con q0 como qubit de control y \n",
    "# q1 como qubit objetivo\n",
    "circuit.append(cirq.CNOT(qb[0], qb[1]))\n",
    "# Mostramos el circuito creado\n",
    "print(circuit)"
   ]
  },
  {
   "cell_type": "markdown",
   "id": "b243046e",
   "metadata": {},
   "source": [
    "Del diagrama anterior puede verse como ya tenemos el circuito creado. Procedemos ahora a crear un Simulator() y simular el circuito."
   ]
  },
  {
   "cell_type": "code",
   "execution_count": 41,
   "id": "4e05096f",
   "metadata": {},
   "outputs": [
    {
     "name": "stdout",
     "output_type": "stream",
     "text": [
      "Simulate the circuit:\n",
      "measurements: (no measurements)\n",
      "\n",
      "qubits: (cirq.LineQubit(0), cirq.LineQubit(1))\n",
      "output vector: 0.707|00⟩ + 0.707|11⟩\n",
      "\n",
      "phase:\n",
      "output vector: |⟩\n"
     ]
    }
   ],
   "source": [
    "#Inicializamos el simulador\n",
    "s = cirq.Simulator()\n",
    "\n",
    "print('Simulate the circuit:')\n",
    "results = s.simulate(circuit)\n",
    "print(results)\n",
    "\n",
    "# Para muestrear medimos los resultados al final\n",
    "circuit.append(cirq.measure(qb[0], qb[1], key='result'))\n",
    "\n",
    "# Ejecutamos varias veces para obtener un muestreo significativo\n",
    "samples = s.run(bell_circuit, repetitions=1000)"
   ]
  },
  {
   "cell_type": "code",
   "execution_count": 42,
   "id": "66610a37",
   "metadata": {},
   "outputs": [
    {
     "data": {
      "image/png": "[encoded data removed]",
      "text/plain": [
       "<Figure size 432x288 with 1 Axes>"
      ]
     },
     "metadata": {
      "needs_background": "light"
     },
     "output_type": "display_data"
    }
   ],
   "source": [
    "cirq.plot_state_histogram(samples, plt.subplot())\n",
    "plt.show()"
   ]
  },
  {
   "cell_type": "markdown",
   "id": "7732a925",
   "metadata": {},
   "source": [
    "De nuevo, leemos únicamente los estados $|00\\rangle$ y $|11\\rangle$ por los mismos motivos que ya explicamos en el notebook correspondiente a qiskit. Seguimos la misma estrategia que en el caso anterior para eliminar las entradas con 0 elementos. "
   ]
  },
  {
   "cell_type": "code",
   "execution_count": 43,
   "id": "6e7ecd7c",
   "metadata": {},
   "outputs": [
    {
     "name": "stdout",
     "output_type": "stream",
     "text": [
      "Counter({0: 513, 3: 487})\n"
     ]
    },
    {
     "data": {
      "image/png": "[encoded data removed]",
      "text/plain": [
       "<Figure size 432x288 with 1 Axes>"
      ]
     },
     "metadata": {
      "needs_background": "light"
     },
     "output_type": "display_data"
    }
   ],
   "source": [
    "# Obtenemos los conteos a partir del histograma\n",
    "counts = samples.histogram(key='result')\n",
    "print(counts)\n",
    "\n",
    "# Graficamos los conteos en lugar de los resultados del circuito\n",
    "cirq.plot_state_histogram(counts, plt.subplot())\n",
    "plt.show()"
   ]
  },
  {
   "cell_type": "code",
   "execution_count": null,
   "id": "71f708f4",
   "metadata": {},
   "outputs": [],
   "source": []
  }
 ],
 "metadata": {
  "kernelspec": {
   "display_name": "Python 3 (ipykernel)",
   "language": "python",
   "name": "python3"
  },
  "language_info": {
   "codemirror_mode": {
    "name": "ipython",
    "version": 3
   },
   "file_extension": ".py",
   "mimetype": "text/x-python",
   "name": "python",
   "nbconvert_exporter": "python",
   "pygments_lexer": "ipython3",
   "version": "3.8.10"
  }
 },
 "nbformat": 4,
 "nbformat_minor": 5
}

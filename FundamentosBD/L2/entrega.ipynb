{
 "cells": [
  {
   "cell_type": "markdown",
   "id": "a69d86c7",
   "metadata": {},
   "source": [
    "# Actividades Lección 2: Fundamentos de Big Data"
   ]
  },
  {
   "cell_type": "markdown",
   "id": "1bd91bcb",
   "metadata": {},
   "source": [
    "# ACTIVIDAD 1"
   ]
  },
  {
   "cell_type": "markdown",
   "id": "4136bc6f",
   "metadata": {},
   "source": [
    "Para comprobar de alguna manera que el/la alumno ha trabajado el manual,\n",
    "se pedirá que el alumno envíe el archivo .ipynb con la programación paso a\n",
    "paso de todo lo explicado en el manual relacionado con Gráficos rápidos con\n",
    "pandas (punto 3 del manual)"
   ]
  },
  {
   "cell_type": "markdown",
   "id": "44e9c522",
   "metadata": {},
   "source": [
    "Comenzamos haciendo los imports que nos servirán para todas las actividades."
   ]
  },
  {
   "cell_type": "code",
   "execution_count": 22,
   "id": "4daea2f5",
   "metadata": {},
   "outputs": [],
   "source": [
    "import pandas as pd\n",
    "import numpy as np\n",
    "import seaborn as sns\n",
    "import matplotlib.pyplot as plt\n",
    "import plotnine as p9\n",
    "from bokeh.plotting import figure, show"
   ]
  },
  {
   "cell_type": "markdown",
   "id": "24ecd574",
   "metadata": {},
   "source": [
    "Comenzamos definiendo el DataFrame y mostrando las 5 primeras filas con .head()"
   ]
  },
  {
   "cell_type": "code",
   "execution_count": 23,
   "id": "12b872c3",
   "metadata": {},
   "outputs": [
    {
     "data": {
      "text/html": [
       "<div>\n",
       "<style scoped>\n",
       "    .dataframe tbody tr th:only-of-type {\n",
       "        vertical-align: middle;\n",
       "    }\n",
       "\n",
       "    .dataframe tbody tr th {\n",
       "        vertical-align: top;\n",
       "    }\n",
       "\n",
       "    .dataframe thead th {\n",
       "        text-align: right;\n",
       "    }\n",
       "</style>\n",
       "<table border=\"1\" class=\"dataframe\">\n",
       "  <thead>\n",
       "    <tr style=\"text-align: right;\">\n",
       "      <th></th>\n",
       "      <th>X</th>\n",
       "      <th>Y</th>\n",
       "    </tr>\n",
       "  </thead>\n",
       "  <tbody>\n",
       "    <tr>\n",
       "      <th>0</th>\n",
       "      <td>10</td>\n",
       "      <td>15</td>\n",
       "    </tr>\n",
       "    <tr>\n",
       "      <th>1</th>\n",
       "      <td>20</td>\n",
       "      <td>5</td>\n",
       "    </tr>\n",
       "    <tr>\n",
       "      <th>2</th>\n",
       "      <td>30</td>\n",
       "      <td>10</td>\n",
       "    </tr>\n",
       "    <tr>\n",
       "      <th>3</th>\n",
       "      <td>40</td>\n",
       "      <td>8</td>\n",
       "    </tr>\n",
       "    <tr>\n",
       "      <th>4</th>\n",
       "      <td>50</td>\n",
       "      <td>6</td>\n",
       "    </tr>\n",
       "  </tbody>\n",
       "</table>\n",
       "</div>"
      ],
      "text/plain": [
       "    X   Y\n",
       "0  10  15\n",
       "1  20   5\n",
       "2  30  10\n",
       "3  40   8\n",
       "4  50   6"
      ]
     },
     "execution_count": 23,
     "metadata": {},
     "output_type": "execute_result"
    }
   ],
   "source": [
    "df = pd.DataFrame({\"X\": [10,20,30,40,50], \"Y\":[15,5,10,8,6]})\n",
    "df.head()"
   ]
  },
  {
   "cell_type": "markdown",
   "id": "12df650f",
   "metadata": {},
   "source": [
    "Seguimos mostrando un gráfico de líneas con df.plot()"
   ]
  },
  {
   "cell_type": "code",
   "execution_count": 24,
   "id": "80ecc657",
   "metadata": {},
   "outputs": [
    {
     "data": {
      "image/png": "[encoded data removed]",
      "text/plain": [
       "<Figure size 432x288 with 1 Axes>"
      ]
     },
     "metadata": {
      "needs_background": "light"
     },
     "output_type": "display_data"
    }
   ],
   "source": [
    "df.plot()\n",
    "plt.show()"
   ]
  },
  {
   "cell_type": "markdown",
   "id": "c8e065a3",
   "metadata": {},
   "source": [
    "Mostramos un gráfico de barras usando el parámetro kind = \"bar\""
   ]
  },
  {
   "cell_type": "code",
   "execution_count": 25,
   "id": "098cbbb5",
   "metadata": {},
   "outputs": [
    {
     "data": {
      "image/png": "[encoded data removed]",
      "text/plain": [
       "<Figure size 432x288 with 1 Axes>"
      ]
     },
     "metadata": {
      "needs_background": "light"
     },
     "output_type": "display_data"
    }
   ],
   "source": [
    "df.plot(kind = \"bar\")\n",
    "plt.show()"
   ]
  },
  {
   "cell_type": "markdown",
   "id": "ed64cd90",
   "metadata": {},
   "source": [
    "Mostramos un diagrama de barras apilado utilizando el parámetro stacked = True"
   ]
  },
  {
   "cell_type": "code",
   "execution_count": 26,
   "id": "a95ac7e3",
   "metadata": {},
   "outputs": [
    {
     "data": {
      "image/png": "[encoded data removed]",
      "text/plain": [
       "<Figure size 432x288 with 1 Axes>"
      ]
     },
     "metadata": {
      "needs_background": "light"
     },
     "output_type": "display_data"
    }
   ],
   "source": [
    "df.plot(kind = \"bar\", stacked = True)\n",
    "plt.show()"
   ]
  },
  {
   "cell_type": "markdown",
   "id": "3a6442a8",
   "metadata": {},
   "source": [
    "Podemos buscar más parámetros de df.plot con el signo interrogante ?"
   ]
  },
  {
   "cell_type": "code",
   "execution_count": 27,
   "id": "823eae84",
   "metadata": {},
   "outputs": [],
   "source": [
    "df.plot?"
   ]
  },
  {
   "cell_type": "markdown",
   "id": "9f696347",
   "metadata": {},
   "source": [
    "Ponemos un título a la gráfica y mostramos las líneas de eje"
   ]
  },
  {
   "cell_type": "code",
   "execution_count": 28,
   "id": "4e5e0823",
   "metadata": {},
   "outputs": [
    {
     "data": {
      "image/png": "[encoded data removed]",
      "text/plain": [
       "<Figure size 432x288 with 1 Axes>"
      ]
     },
     "metadata": {
      "needs_background": "light"
     },
     "output_type": "display_data"
    }
   ],
   "source": [
    "df.plot(kind = \"bar\", stacked = True, grid = True,\n",
    "       title = \"Gráfica de ejemplo con pandas\")\n",
    "plt.show()"
   ]
  },
  {
   "cell_type": "markdown",
   "id": "481b18c2",
   "metadata": {},
   "source": [
    "Mostramos un conteo de cuantos elementos de cada tipo hay en la \n",
    "columna \"Y\""
   ]
  },
  {
   "cell_type": "code",
   "execution_count": 29,
   "id": "535d2ddf",
   "metadata": {},
   "outputs": [
    {
     "data": {
      "text/plain": [
       "15    1\n",
       "5     1\n",
       "10    1\n",
       "8     1\n",
       "6     1\n",
       "Name: Y, dtype: int64"
      ]
     },
     "execution_count": 29,
     "metadata": {},
     "output_type": "execute_result"
    }
   ],
   "source": [
    "df.Y.value_counts()"
   ]
  },
  {
   "cell_type": "markdown",
   "id": "7a10f8e0",
   "metadata": {},
   "source": [
    "Obtenemos una gráfica de barras de estos conteos"
   ]
  },
  {
   "cell_type": "code",
   "execution_count": 30,
   "id": "3e6fb1ae",
   "metadata": {},
   "outputs": [
    {
     "data": {
      "image/png": "[encoded data removed]",
      "text/plain": [
       "<Figure size 432x288 with 1 Axes>"
      ]
     },
     "metadata": {
      "needs_background": "light"
     },
     "output_type": "display_data"
    }
   ],
   "source": [
    "df.Y.value_counts().plot(kind = \"bar\")\n",
    "plt.show()"
   ]
  },
  {
   "cell_type": "markdown",
   "id": "5eebe588",
   "metadata": {},
   "source": [
    "Vamos a proponer un ejemplo un poco más elaborado \n",
    "generando otro DataFrame."
   ]
  },
  {
   "cell_type": "code",
   "execution_count": 31,
   "id": "f6c0fe7e",
   "metadata": {},
   "outputs": [
    {
     "data": {
      "text/html": [
       "<div>\n",
       "<style scoped>\n",
       "    .dataframe tbody tr th:only-of-type {\n",
       "        vertical-align: middle;\n",
       "    }\n",
       "\n",
       "    .dataframe tbody tr th {\n",
       "        vertical-align: top;\n",
       "    }\n",
       "\n",
       "    .dataframe thead th {\n",
       "        text-align: right;\n",
       "    }\n",
       "</style>\n",
       "<table border=\"1\" class=\"dataframe\">\n",
       "  <thead>\n",
       "    <tr style=\"text-align: right;\">\n",
       "      <th></th>\n",
       "      <th>X</th>\n",
       "      <th>Y</th>\n",
       "    </tr>\n",
       "  </thead>\n",
       "  <tbody>\n",
       "    <tr>\n",
       "      <th>0</th>\n",
       "      <td>10</td>\n",
       "      <td>10</td>\n",
       "    </tr>\n",
       "    <tr>\n",
       "      <th>1</th>\n",
       "      <td>20</td>\n",
       "      <td>20</td>\n",
       "    </tr>\n",
       "    <tr>\n",
       "      <th>2</th>\n",
       "      <td>30</td>\n",
       "      <td>10</td>\n",
       "    </tr>\n",
       "    <tr>\n",
       "      <th>3</th>\n",
       "      <td>40</td>\n",
       "      <td>40</td>\n",
       "    </tr>\n",
       "    <tr>\n",
       "      <th>4</th>\n",
       "      <td>50</td>\n",
       "      <td>20</td>\n",
       "    </tr>\n",
       "    <tr>\n",
       "      <th>5</th>\n",
       "      <td>60</td>\n",
       "      <td>30</td>\n",
       "    </tr>\n",
       "    <tr>\n",
       "      <th>6</th>\n",
       "      <td>70</td>\n",
       "      <td>20</td>\n",
       "    </tr>\n",
       "    <tr>\n",
       "      <th>7</th>\n",
       "      <td>80</td>\n",
       "      <td>10</td>\n",
       "    </tr>\n",
       "  </tbody>\n",
       "</table>\n",
       "</div>"
      ],
      "text/plain": [
       "    X   Y\n",
       "0  10  10\n",
       "1  20  20\n",
       "2  30  10\n",
       "3  40  40\n",
       "4  50  20\n",
       "5  60  30\n",
       "6  70  20\n",
       "7  80  10"
      ]
     },
     "execution_count": 31,
     "metadata": {},
     "output_type": "execute_result"
    }
   ],
   "source": [
    "df_2 = pd.DataFrame({\"X\": [10,20,30,40,50,60,70,80], \n",
    "                     \"Y\": [10, 20,10,40,20,30,20,10]})\n",
    "df_2"
   ]
  },
  {
   "cell_type": "markdown",
   "id": "3d08b612",
   "metadata": {},
   "source": [
    "De nuevo, mostramos un conteo de cada elemento en \"Y\""
   ]
  },
  {
   "cell_type": "code",
   "execution_count": 32,
   "id": "6184cf91",
   "metadata": {},
   "outputs": [
    {
     "data": {
      "text/plain": [
       "10    3\n",
       "20    3\n",
       "40    1\n",
       "30    1\n",
       "Name: Y, dtype: int64"
      ]
     },
     "execution_count": 32,
     "metadata": {},
     "output_type": "execute_result"
    }
   ],
   "source": [
    "df_2.Y.value_counts()"
   ]
  },
  {
   "cell_type": "markdown",
   "id": "b0ef9138",
   "metadata": {},
   "source": [
    "Y hacemos un diagrama de barras de estos conteos"
   ]
  },
  {
   "cell_type": "code",
   "execution_count": 33,
   "id": "0d038244",
   "metadata": {},
   "outputs": [
    {
     "data": {
      "image/png": "[encoded data removed]",
      "text/plain": [
       "<Figure size 432x288 with 1 Axes>"
      ]
     },
     "metadata": {
      "needs_background": "light"
     },
     "output_type": "display_data"
    }
   ],
   "source": [
    "df_2.Y.value_counts().plot(kind = \"bar\")\n",
    "plt.show()"
   ]
  },
  {
   "cell_type": "markdown",
   "id": "3a57bccf",
   "metadata": {},
   "source": [
    "Se pueden incluir varios colores como vemos a continuación"
   ]
  },
  {
   "cell_type": "code",
   "execution_count": 34,
   "id": "c0429147",
   "metadata": {},
   "outputs": [
    {
     "data": {
      "image/png": "[encoded data removed]",
      "text/plain": [
       "<Figure size 432x288 with 1 Axes>"
      ]
     },
     "metadata": {
      "needs_background": "light"
     },
     "output_type": "display_data"
    }
   ],
   "source": [
    "df_2.Y.value_counts().plot(kind = \"bar\",\n",
    "                          color = [\"green\", \"orange\"])\n",
    "plt.show()"
   ]
  },
  {
   "cell_type": "code",
   "execution_count": 35,
   "id": "39a1a728",
   "metadata": {},
   "outputs": [
    {
     "data": {
      "image/png": "[encoded data removed]",
      "text/plain": [
       "<Figure size 432x288 with 1 Axes>"
      ]
     },
     "metadata": {
      "needs_background": "light"
     },
     "output_type": "display_data"
    }
   ],
   "source": [
    "df_2.Y.value_counts().plot(kind = \"bar\",\n",
    "                          color = [\"blue\", \"green\", \"red\", \"orange\"])\n",
    "plt.show()"
   ]
  },
  {
   "cell_type": "markdown",
   "id": "eea057c0",
   "metadata": {},
   "source": [
    "\n",
    "\n",
    "\n",
    "\n",
    "\n"
   ]
  },
  {
   "cell_type": "markdown",
   "id": "0812daec",
   "metadata": {},
   "source": [
    "# ACTIVIDAD 2"
   ]
  },
  {
   "cell_type": "markdown",
   "id": "42096ca3",
   "metadata": {},
   "source": [
    "Ggplot es una librería muy importante en “R” (lenguaje de programación).\n",
    "\n",
    "En el caso de Python, lo que se va a pedir es que se aprenda de forma\n",
    "autodidacta a hacer las gráficas para Iris Dataset con “plotnine”.\n",
    "\n",
    "Los colores no necesitan coincidir, pero la gráfica debería ser la misma. (pétalo y/o sépalo)"
   ]
  },
  {
   "cell_type": "markdown",
   "id": "ec557d27",
   "metadata": {},
   "source": [
    "Vamos a comenzar importando el dataset Iris con read_csv(), y vamos a usar .head() para ver sus 5 primeras filas, así como los identificadores de cada columna."
   ]
  },
  {
   "cell_type": "code",
   "execution_count": 36,
   "id": "f29c519f",
   "metadata": {
    "scrolled": true
   },
   "outputs": [
    {
     "data": {
      "text/html": [
       "<div>\n",
       "<style scoped>\n",
       "    .dataframe tbody tr th:only-of-type {\n",
       "        vertical-align: middle;\n",
       "    }\n",
       "\n",
       "    .dataframe tbody tr th {\n",
       "        vertical-align: top;\n",
       "    }\n",
       "\n",
       "    .dataframe thead th {\n",
       "        text-align: right;\n",
       "    }\n",
       "</style>\n",
       "<table border=\"1\" class=\"dataframe\">\n",
       "  <thead>\n",
       "    <tr style=\"text-align: right;\">\n",
       "      <th></th>\n",
       "      <th>sepal_length</th>\n",
       "      <th>sepal_width</th>\n",
       "      <th>petal_length</th>\n",
       "      <th>petal_width</th>\n",
       "      <th>species</th>\n",
       "      <th>species_id</th>\n",
       "    </tr>\n",
       "  </thead>\n",
       "  <tbody>\n",
       "    <tr>\n",
       "      <th>0</th>\n",
       "      <td>5.1</td>\n",
       "      <td>3.5</td>\n",
       "      <td>1.4</td>\n",
       "      <td>0.2</td>\n",
       "      <td>setosa</td>\n",
       "      <td>1</td>\n",
       "    </tr>\n",
       "    <tr>\n",
       "      <th>1</th>\n",
       "      <td>4.9</td>\n",
       "      <td>3.0</td>\n",
       "      <td>1.4</td>\n",
       "      <td>0.2</td>\n",
       "      <td>setosa</td>\n",
       "      <td>1</td>\n",
       "    </tr>\n",
       "    <tr>\n",
       "      <th>2</th>\n",
       "      <td>4.7</td>\n",
       "      <td>3.2</td>\n",
       "      <td>1.3</td>\n",
       "      <td>0.2</td>\n",
       "      <td>setosa</td>\n",
       "      <td>1</td>\n",
       "    </tr>\n",
       "    <tr>\n",
       "      <th>3</th>\n",
       "      <td>4.6</td>\n",
       "      <td>3.1</td>\n",
       "      <td>1.5</td>\n",
       "      <td>0.2</td>\n",
       "      <td>setosa</td>\n",
       "      <td>1</td>\n",
       "    </tr>\n",
       "    <tr>\n",
       "      <th>4</th>\n",
       "      <td>5.0</td>\n",
       "      <td>3.6</td>\n",
       "      <td>1.4</td>\n",
       "      <td>0.2</td>\n",
       "      <td>setosa</td>\n",
       "      <td>1</td>\n",
       "    </tr>\n",
       "  </tbody>\n",
       "</table>\n",
       "</div>"
      ],
      "text/plain": [
       "   sepal_length  sepal_width  petal_length  petal_width species  species_id\n",
       "0           5.1          3.5           1.4          0.2  setosa           1\n",
       "1           4.9          3.0           1.4          0.2  setosa           1\n",
       "2           4.7          3.2           1.3          0.2  setosa           1\n",
       "3           4.6          3.1           1.5          0.2  setosa           1\n",
       "4           5.0          3.6           1.4          0.2  setosa           1"
      ]
     },
     "execution_count": 36,
     "metadata": {},
     "output_type": "execute_result"
    }
   ],
   "source": [
    "iris_df = pd.read_csv('./iris.csv')\n",
    "iris_df.head()"
   ]
  },
  {
   "cell_type": "markdown",
   "id": "698905d0",
   "metadata": {},
   "source": [
    "Vamos a comenzar dibujando las gráficas de los sépalos. Para ello, vamos a utilizar las funciones de indexado de Pandas para extraer las columnas \"sepal_length\", \"sepal_width\" y \"species\" del DataFrame."
   ]
  },
  {
   "cell_type": "code",
   "execution_count": 37,
   "id": "eab656d8",
   "metadata": {},
   "outputs": [
    {
     "data": {
      "text/html": [
       "<div>\n",
       "<style scoped>\n",
       "    .dataframe tbody tr th:only-of-type {\n",
       "        vertical-align: middle;\n",
       "    }\n",
       "\n",
       "    .dataframe tbody tr th {\n",
       "        vertical-align: top;\n",
       "    }\n",
       "\n",
       "    .dataframe thead th {\n",
       "        text-align: right;\n",
       "    }\n",
       "</style>\n",
       "<table border=\"1\" class=\"dataframe\">\n",
       "  <thead>\n",
       "    <tr style=\"text-align: right;\">\n",
       "      <th></th>\n",
       "      <th>sepal_length</th>\n",
       "      <th>sepal_width</th>\n",
       "      <th>species</th>\n",
       "    </tr>\n",
       "  </thead>\n",
       "  <tbody>\n",
       "    <tr>\n",
       "      <th>0</th>\n",
       "      <td>5.1</td>\n",
       "      <td>3.5</td>\n",
       "      <td>setosa</td>\n",
       "    </tr>\n",
       "    <tr>\n",
       "      <th>1</th>\n",
       "      <td>4.9</td>\n",
       "      <td>3.0</td>\n",
       "      <td>setosa</td>\n",
       "    </tr>\n",
       "    <tr>\n",
       "      <th>2</th>\n",
       "      <td>4.7</td>\n",
       "      <td>3.2</td>\n",
       "      <td>setosa</td>\n",
       "    </tr>\n",
       "    <tr>\n",
       "      <th>3</th>\n",
       "      <td>4.6</td>\n",
       "      <td>3.1</td>\n",
       "      <td>setosa</td>\n",
       "    </tr>\n",
       "    <tr>\n",
       "      <th>4</th>\n",
       "      <td>5.0</td>\n",
       "      <td>3.6</td>\n",
       "      <td>setosa</td>\n",
       "    </tr>\n",
       "  </tbody>\n",
       "</table>\n",
       "</div>"
      ],
      "text/plain": [
       "   sepal_length  sepal_width species\n",
       "0           5.1          3.5  setosa\n",
       "1           4.9          3.0  setosa\n",
       "2           4.7          3.2  setosa\n",
       "3           4.6          3.1  setosa\n",
       "4           5.0          3.6  setosa"
      ]
     },
     "execution_count": 37,
     "metadata": {},
     "output_type": "execute_result"
    }
   ],
   "source": [
    "aux_df1 = iris_df[[\"sepal_length\", \"sepal_width\", \"species\"]]\n",
    "aux_df1.head()"
   ]
  },
  {
   "cell_type": "markdown",
   "id": "c21bfedd",
   "metadata": {},
   "source": [
    "Una vez hecho esto, vamos a usar la función ggplot de plotnine para hacer un gráfico de dispersión de puntos."
   ]
  },
  {
   "cell_type": "code",
   "execution_count": 38,
   "id": "f44c9eb5",
   "metadata": {},
   "outputs": [
    {
     "data": {
      "image/png": "[encoded data removed]",
      "text/plain": [
       "<Figure size 640x480 with 1 Axes>"
      ]
     },
     "metadata": {},
     "output_type": "display_data"
    },
    {
     "data": {
      "text/plain": [
       "<ggplot: (8768180123106)>"
      ]
     },
     "execution_count": 38,
     "metadata": {},
     "output_type": "execute_result"
    }
   ],
   "source": [
    "p9.ggplot(data = aux_df1, \n",
    "            mapping = p9.aes(x = 'sepal_length', y = 'sepal_width', color = 'species')) + p9.geom_point()"
   ]
  },
  {
   "cell_type": "markdown",
   "id": "058df97d",
   "metadata": {},
   "source": [
    "De este código simplemente comentar como hemos usado un código de color en funcion de las especies (mediante el parámetro color = 'species') y p9.geom_point() para representar cada dato como un punto. \n",
    "\n",
    "Pasamos a continuación a realizar el mismo procedimiento para los pétalos. Comenzamos extrayendo las columnas \"petal_length\", \"petal_width\" y \"species\" del dataframe."
   ]
  },
  {
   "cell_type": "code",
   "execution_count": 39,
   "id": "fffc4832",
   "metadata": {},
   "outputs": [
    {
     "data": {
      "text/html": [
       "<div>\n",
       "<style scoped>\n",
       "    .dataframe tbody tr th:only-of-type {\n",
       "        vertical-align: middle;\n",
       "    }\n",
       "\n",
       "    .dataframe tbody tr th {\n",
       "        vertical-align: top;\n",
       "    }\n",
       "\n",
       "    .dataframe thead th {\n",
       "        text-align: right;\n",
       "    }\n",
       "</style>\n",
       "<table border=\"1\" class=\"dataframe\">\n",
       "  <thead>\n",
       "    <tr style=\"text-align: right;\">\n",
       "      <th></th>\n",
       "      <th>petal_length</th>\n",
       "      <th>petal_width</th>\n",
       "      <th>species</th>\n",
       "    </tr>\n",
       "  </thead>\n",
       "  <tbody>\n",
       "    <tr>\n",
       "      <th>0</th>\n",
       "      <td>1.4</td>\n",
       "      <td>0.2</td>\n",
       "      <td>setosa</td>\n",
       "    </tr>\n",
       "    <tr>\n",
       "      <th>1</th>\n",
       "      <td>1.4</td>\n",
       "      <td>0.2</td>\n",
       "      <td>setosa</td>\n",
       "    </tr>\n",
       "    <tr>\n",
       "      <th>2</th>\n",
       "      <td>1.3</td>\n",
       "      <td>0.2</td>\n",
       "      <td>setosa</td>\n",
       "    </tr>\n",
       "    <tr>\n",
       "      <th>3</th>\n",
       "      <td>1.5</td>\n",
       "      <td>0.2</td>\n",
       "      <td>setosa</td>\n",
       "    </tr>\n",
       "    <tr>\n",
       "      <th>4</th>\n",
       "      <td>1.4</td>\n",
       "      <td>0.2</td>\n",
       "      <td>setosa</td>\n",
       "    </tr>\n",
       "  </tbody>\n",
       "</table>\n",
       "</div>"
      ],
      "text/plain": [
       "   petal_length  petal_width species\n",
       "0           1.4          0.2  setosa\n",
       "1           1.4          0.2  setosa\n",
       "2           1.3          0.2  setosa\n",
       "3           1.5          0.2  setosa\n",
       "4           1.4          0.2  setosa"
      ]
     },
     "execution_count": 39,
     "metadata": {},
     "output_type": "execute_result"
    }
   ],
   "source": [
    "aux_df2 = iris_df[[\"petal_length\", \"petal_width\", \"species\"]]\n",
    "aux_df2.head()"
   ]
  },
  {
   "cell_type": "markdown",
   "id": "536e2177",
   "metadata": {},
   "source": [
    "Una vez hecho esto procedemos como ya hemos visto y dibujamos el gráfico de dispersión de puntos."
   ]
  },
  {
   "cell_type": "code",
   "execution_count": 40,
   "id": "04f9fa73",
   "metadata": {},
   "outputs": [
    {
     "data": {
      "image/png": "[encoded data removed]",
      "text/plain": [
       "<Figure size 640x480 with 1 Axes>"
      ]
     },
     "metadata": {},
     "output_type": "display_data"
    },
    {
     "data": {
      "text/plain": [
       "<ggplot: (8768180119893)>"
      ]
     },
     "execution_count": 40,
     "metadata": {},
     "output_type": "execute_result"
    }
   ],
   "source": [
    "p9.ggplot(data = aux_df2, \n",
    "            mapping = p9.aes(x = 'petal_length', y = 'petal_width', color = 'species')) + p9.geom_point()"
   ]
  },
  {
   "cell_type": "markdown",
   "id": "bb893bbc",
   "metadata": {},
   "source": [
    "\n",
    "\n"
   ]
  },
  {
   "cell_type": "markdown",
   "id": "761fc4a3",
   "metadata": {},
   "source": [
    "# ACTIVIDAD 3"
   ]
  },
  {
   "cell_type": "markdown",
   "id": "4f5eb052",
   "metadata": {},
   "source": [
    "Tableau es una herramienta mencionada en los apuntes.\n",
    "¿Existe alguna forma de programar, o de integrar Python con Tableau?"
   ]
  },
  {
   "cell_type": "markdown",
   "id": "8cbc60a9",
   "metadata": {},
   "source": [
    "Python puede incluirse en el flujo de un programa Tableau mediante el uso de TabPy. Esta herramienta nos permite incorporar código de Python en nuestros scripts Tableau, habitualmente, se hace uso de la función SCRIPT_REAL() que en su interior contendrá una implementación Python de aquello que se necesite calcular o manejar. "
   ]
  },
  {
   "cell_type": "markdown",
   "id": "aff19a05",
   "metadata": {},
   "source": [
    "# ACTIVIDAD 4"
   ]
  },
  {
   "cell_type": "markdown",
   "id": "1396da09",
   "metadata": {},
   "source": [
    "Se han mencionado más cosas.\n",
    "\n",
    "Se pedirá en este caso que se tome uno de ellos, y se trate de aprender de\n",
    "forma autodidacta, se pedirá que en el mismo archivo .ipynb se presente algo\n",
    "relacionado con Bokeh preferentemente, o de Power BI.\n",
    "\n",
    "No es importante la elección, pudiera ser Folium, Savvy, o incluso alguna cosa\n",
    "no vista.\n",
    "\n",
    "Pista: No tiene por qué ser algo complejo. Podría ser algo relacionado, similar\n",
    "a la información que te encontrarás en sus respectivos sitios web."
   ]
  },
  {
   "cell_type": "markdown",
   "id": "2e707b82",
   "metadata": {},
   "source": [
    "A continuación, vamos a usar Bokeh para dibujar de nuevo las gráficas de los sépalos y los pétalos para el Iris Dataset. Comenzamos con la de los sépalos."
   ]
  },
  {
   "cell_type": "code",
   "execution_count": 41,
   "id": "85d6f093",
   "metadata": {},
   "outputs": [],
   "source": [
    "color_map = {'setosa':'red', 'versicolor':'green', 'virginica':'blue'}\n",
    "colors = [color_map[i] for i in iris_df['species']]\n",
    "p1 = figure(title = \"Sepal Scatter\")\n",
    "p1.xaxis.axis_label = \"Sepal Length\"\n",
    "p1.yaxis.axis_label = \"Sepal Width\"\n",
    "p1.scatter(iris_df[\"sepal_length\"], iris_df[\"sepal_width\"], color = colors, \n",
    "            size = 5)\n",
    "show(p1)"
   ]
  },
  {
   "cell_type": "markdown",
   "id": "b6af0327",
   "metadata": {},
   "source": [
    "Mostramos a continuación la dispersión para los pétalos."
   ]
  },
  {
   "cell_type": "code",
   "execution_count": 42,
   "id": "f483e053",
   "metadata": {},
   "outputs": [],
   "source": [
    "p2 = figure(title = \"Petal Scatter\")\n",
    "p2.xaxis.axis_label = \"Petal Length\"\n",
    "p2.yaxis.axis_label = \"Petal Width\"\n",
    "p2.scatter(iris_df[\"petal_length\"], iris_df[\"petal_width\"], color = colors, size = 5)\n",
    "show(p2)"
   ]
  },
  {
   "cell_type": "code",
   "execution_count": null,
   "id": "afc17533",
   "metadata": {},
   "outputs": [],
   "source": []
  }
 ],
 "metadata": {
  "kernelspec": {
   "display_name": "Python 3 (ipykernel)",
   "language": "python",
   "name": "python3"
  },
  "language_info": {
   "codemirror_mode": {
    "name": "ipython",
    "version": 3
   },
   "file_extension": ".py",
   "mimetype": "text/x-python",
   "name": "python",
   "nbconvert_exporter": "python",
   "pygments_lexer": "ipython3",
   "version": "3.9.7"
  }
 },
 "nbformat": 4,
 "nbformat_minor": 5
}
